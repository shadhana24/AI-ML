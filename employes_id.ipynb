{
  "cells": [
    {
      "cell_type": "code",
      "execution_count": 9,
      "id": "fzsXvz1Ky3wb",
      "metadata": {
        "id": "fzsXvz1Ky3wb"
      },
      "outputs": [],
      "source": [
        "import numpy as np"
      ]
    },
    {
      "cell_type": "code",
      "execution_count": 3,
      "id": "Q9rb7ppQy37X",
      "metadata": {
        "id": "Q9rb7ppQy37X"
      },
      "outputs": [],
      "source": [
        "import pandas as pd"
      ]
    },
    {
      "cell_type": "code",
      "execution_count": 10,
      "id": "8gmtiiEM1O6V",
      "metadata": {
        "id": "8gmtiiEM1O6V"
      },
      "outputs": [],
      "source": [
        "np.random.seed(42)"
      ]
    },
    {
      "cell_type": "code",
      "execution_count": 16,
      "id": "WCYH1lIQ3ixR",
      "metadata": {
        "colab": {
          "base_uri": "https://localhost:8080/"
        },
        "id": "WCYH1lIQ3ixR",
        "outputId": "49c560c4-d173-4617-9811-60f61d5fa9c2"
      },
      "outputs": [
        {
          "data": {
            "text/plain": [
              "['Emp_001',\n",
              " 'Emp_002',\n",
              " 'Emp_003',\n",
              " 'Emp_004',\n",
              " 'Emp_005',\n",
              " 'Emp_006',\n",
              " 'Emp_007',\n",
              " 'Emp_008',\n",
              " 'Emp_009',\n",
              " 'Emp_010',\n",
              " 'Emp_011',\n",
              " 'Emp_012',\n",
              " 'Emp_013',\n",
              " 'Emp_014',\n",
              " 'Emp_015',\n",
              " 'Emp_016',\n",
              " 'Emp_017',\n",
              " 'Emp_018',\n",
              " 'Emp_019',\n",
              " 'Emp_020',\n",
              " 'Emp_021',\n",
              " 'Emp_022',\n",
              " 'Emp_023',\n",
              " 'Emp_024',\n",
              " 'Emp_025',\n",
              " 'Emp_026',\n",
              " 'Emp_027',\n",
              " 'Emp_028',\n",
              " 'Emp_029',\n",
              " 'Emp_030']"
            ]
          },
          "execution_count": 16,
          "metadata": {},
          "output_type": "execute_result"
        }
      ],
      "source": [
        "employee_id=[f\"Emp_{i:03d}\"for i in range(1,31)]\n",
        "dates=pd.date_range(start=\"2025-07-01\",periods=30,freq=\"D\")\n",
        "employee_id"
      ]
    },
    {
      "cell_type": "code",
      "execution_count": 24,
      "id": "Scm0H_Rj5caq",
      "metadata": {
        "id": "Scm0H_Rj5caq"
      },
      "outputs": [],
      "source": [
        "data={\n",
        "    \"Date\":np.tile(dates,len(employee_id)),\n",
        "    \"Employee_id\":np.repeat(employee_id,len(dates)),\n",
        "    \"Working_Hours\":np.random.uniform(4,10,size=len(dates)*len(employee_id))\n",
        "}\n",
        "df=pd.DataFrame(data)"
      ]
    },
    {
      "cell_type": "code",
      "execution_count": 25,
      "id": "fTfvBPJs6jVr",
      "metadata": {
        "id": "fTfvBPJs6jVr"
      },
      "outputs": [],
      "source": [
        "df.to_csv(\"employee_working_hours.csv\",index=False)"
      ]
    },
    {
      "cell_type": "code",
      "execution_count": 27,
      "id": "XePQlrsk6rco",
      "metadata": {
        "id": "XePQlrsk6rco"
      },
      "outputs": [],
      "source": [
        "#Read from csv\n",
        "df_csv=pd.read_csv(\"employee_working_hours.csv\")"
      ]
    },
    {
      "cell_type": "code",
      "execution_count": 40,
      "id": "tQl1-XX38kUc",
      "metadata": {
        "colab": {
          "base_uri": "https://localhost:8080/"
        },
        "id": "tQl1-XX38kUc",
        "outputId": "81eafe24-d351-40d6-806b-e267a13dd4c5"
      },
      "outputs": [
        {
          "name": "stdout",
          "output_type": "stream",
          "text": [
            "         Date Employee_id  Working_Hours\n",
            "0  2025-07-01     Emp_001       6.247241\n",
            "1  2025-07-02     Emp_001       9.704286\n",
            "2  2025-07-03     Emp_001       8.391964\n",
            "3  2025-07-04     Emp_001       7.591951\n",
            "4  2025-07-05     Emp_001       4.936112\n",
            "       Working_Hours\n",
            "count     900.000000\n",
            "mean        6.954250\n",
            "std         1.762121\n",
            "min         4.027792\n",
            "25%         5.383714\n",
            "50%         7.011134\n",
            "75%         8.486632\n",
            "max         9.998306\n",
            "30\n"
          ]
        }
      ],
      "source": [
        "print(df_csv.head())\n",
        "print(df_csv.describe())\n",
        "print(df_csv[\"Employee_id\"].nunique())"
      ]
    },
    {
      "cell_type": "code",
      "execution_count": 44,
      "id": "adG0gWNY-H5c",
      "metadata": {
        "id": "adG0gWNY-H5c"
      },
      "outputs": [],
      "source": [
        "#Total hours per emplloyee\n",
        "total_hours=df_csv.groupby(\"Employee_id\")[\"Working_Hours\"].sum().sort_values(ascending=False)\n"
      ]
    },
    {
      "cell_type": "code",
      "execution_count": 45,
      "id": "WhILPys5-RjY",
      "metadata": {
        "id": "WhILPys5-RjY"
      },
      "outputs": [],
      "source": [
        "avg_daily=df_csv.groupby(\"Employee_id\")[\"Working_Hours\"].mean()\n"
      ]
    },
    {
      "cell_type": "code",
      "execution_count": 47,
      "id": "2TWrajsd8-Fq",
      "metadata": {
        "id": "2TWrajsd8-Fq"
      },
      "outputs": [],
      "source": [
        "threshold_low=5\n",
        "threshold_high=9\n",
        "df_csv[\"Low_Hours_Flag\"]=df_csv[\"Working_Hours\"] < threshold_low\n",
        "df_csv[\"High_Hours_Flag\"]=df_csv[\"Working_Hours\"] >threshold_high"
      ]
    },
    {
      "cell_type": "code",
      "execution_count": 50,
      "id": "z0maIkK8_OIJ",
      "metadata": {
        "colab": {
          "base_uri": "https://localhost:8080/"
        },
        "id": "z0maIkK8_OIJ",
        "outputId": "803515ba-8ac1-46fd-cbc6-2de85bd88658"
      },
      "outputs": [
        {
          "name": "stdout",
          "output_type": "stream",
          "text": [
            "         Date Employee_id  Working_Hours  Low_Hours_Flag  High_Hours_Flag\n",
            "1  2025-07-02     Emp_001       9.704286           False             True\n",
            "4  2025-07-05     Emp_001       4.936112            True            False\n",
            "5  2025-07-06     Emp_001       4.935967            True            False\n",
            "6  2025-07-07     Emp_001       4.348502            True            False\n",
            "7  2025-07-08     Emp_001       9.197057           False             True\n"
          ]
        }
      ],
      "source": [
        "print(df_csv[df_csv[\"Low_Hours_Flag\"]|df_csv[\"High_Hours_Flag\"]].head())"
      ]
    },
    {
      "cell_type": "code",
      "execution_count": 51,
      "id": "Xr1JcLzM_N8D",
      "metadata": {
        "id": "Xr1JcLzM_N8D"
      },
      "outputs": [],
      "source": [
        "import matplotlib.pyplot as plt"
      ]
    },
    {
      "cell_type": "code",
      "execution_count": 52,
      "id": "K-bOAFrVAcXf",
      "metadata": {
        "id": "K-bOAFrVAcXf"
      },
      "outputs": [],
      "source": [
        "import seaborn as sns"
      ]
    },
    {
      "cell_type": "code",
      "execution_count": 53,
      "id": "-Ma6f7MKAneW",
      "metadata": {
        "colab": {
          "base_uri": "https://localhost:8080/",
          "height": 507
        },
        "id": "-Ma6f7MKAneW",
        "outputId": "7ef3ef23-5e8f-4795-dd42-a642d730407e"
      },
      "outputs": [
        {
          "data": {
            "image/png": "[encoded data removed]",
            "text/plain": [
              "<Figure size 1000x500 with 1 Axes>"
            ]
          },
          "metadata": {},
          "output_type": "display_data"
        }
      ],
      "source": [
        "#Bar chart of top 10 employees with highest total hours\n",
        "top10= total_hours.head(10)\n",
        "plt.figure(figsize=(10,5))\n",
        "sns.barplot(x=top10.index, y=top10.values)\n",
        "plt.xticks(rotation=45)\n",
        "plt.title(\"Top 10 Employees by Total Working Hours\")\n",
        "plt.ylabel(\"Hours\")\n",
        "plt.tight_layout()\n",
        "plt.show()"
      ]
    }
  ],
  "metadata": {
    "colab": {
      "provenance": []
    },
    "kernelspec": {
      "display_name": "Python 3",
      "name": "python3"
    },
    "language_info": {
      "name": "python"
    },
    "required_libs": []
  },
  "nbformat": 4,
  "nbformat_minor": 5
}
