{
  "nbformat": 4,
  "nbformat_minor": 0,
  "metadata": {
    "colab": {
      "provenance": []
    },
    "kernelspec": {
      "name": "python3",
      "display_name": "Python 3"
    },
    "language_info": {
      "name": "python"
    }
  },
  "cells": [
    {
      "cell_type": "code",
      "execution_count": 1,
      "metadata": {
        "colab": {
          "base_uri": "https://localhost:8080/"
        },
        "id": "sbF2_ZrmLN0_",
        "outputId": "5d8a7747-62e4-486d-875e-eef6976a1d0b"
      },
      "outputs": [
        {
          "output_type": "stream",
          "name": "stdout",
          "text": [
            "tensorflow version: 2.18.0\n"
          ]
        }
      ],
      "source": [
        "import tensorflow as tf\n",
        "print(\"tensorflow version: {}\".format(tf.__version__))"
      ]
    },
    {
      "cell_type": "code",
      "source": [
        "d0=tf.constant(1)\n",
        "print(\"Dimention is\",tf.rank(d0).numpy())\n",
        "print(d0)"
      ],
      "metadata": {
        "colab": {
          "base_uri": "https://localhost:8080/"
        },
        "id": "nAW_pIcdN_JQ",
        "outputId": "016f2fbc-ba19-4d31-e6eb-fda88a9eef6f"
      },
      "execution_count": 2,
      "outputs": [
        {
          "output_type": "stream",
          "name": "stdout",
          "text": [
            "Dimention is 0\n",
            "tf.Tensor(1, shape=(), dtype=int32)\n"
          ]
        }
      ]
    },
    {
      "cell_type": "code",
      "source": [
        "n=1 # vector"
      ],
      "metadata": {
        "id": "s5ZKBKz3OQ14"
      },
      "execution_count": 3,
      "outputs": []
    },
    {
      "cell_type": "code",
      "source": [
        "d1=tf.constant((2,))\n",
        "print(\"Dimention is\",tf.rank(d1).numpy())\n",
        "print(d1)"
      ],
      "metadata": {
        "colab": {
          "base_uri": "https://localhost:8080/"
        },
        "id": "SMGMjFuYO4gh",
        "outputId": "afc5dedc-9032-424f-c5b1-5ab6aec51e05"
      },
      "execution_count": 4,
      "outputs": [
        {
          "output_type": "stream",
          "name": "stdout",
          "text": [
            "Dimention is 1\n",
            "tf.Tensor([2], shape=(1,), dtype=int32)\n"
          ]
        }
      ]
    },
    {
      "cell_type": "code",
      "source": [
        "n=2 # martix"
      ],
      "metadata": {
        "id": "jA75kXy2PD8-"
      },
      "execution_count": 5,
      "outputs": []
    },
    {
      "cell_type": "code",
      "source": [
        "d2=tf.constant((2,2))\n",
        "print(\"Dimention is\",tf.rank(d2).numpy())\n",
        "print(d2)"
      ],
      "metadata": {
        "colab": {
          "base_uri": "https://localhost:8080/"
        },
        "id": "9pcTasoNPe8i",
        "outputId": "6a0c6f23-9f32-41d3-d834-9abe79aa45f7"
      },
      "execution_count": 6,
      "outputs": [
        {
          "output_type": "stream",
          "name": "stdout",
          "text": [
            "Dimention is 1\n",
            "tf.Tensor([2 2], shape=(2,), dtype=int32)\n"
          ]
        }
      ]
    },
    {
      "cell_type": "code",
      "source": [
        "n=3 #martix"
      ],
      "metadata": {
        "id": "brz6iC_OQDUA"
      },
      "execution_count": 7,
      "outputs": []
    },
    {
      "cell_type": "code",
      "source": [
        "d3=tf.constant((2,2,2))\n",
        "print(\"Dimention is\",tf.rank(d3).numpy())\n",
        "print(d3)"
      ],
      "metadata": {
        "colab": {
          "base_uri": "https://localhost:8080/"
        },
        "id": "Q_ys7i7WQO6L",
        "outputId": "a3b2dca7-f6db-4066-bfe4-91eb1e4d947c"
      },
      "execution_count": 8,
      "outputs": [
        {
          "output_type": "stream",
          "name": "stdout",
          "text": [
            "Dimention is 1\n",
            "tf.Tensor([2 2 2], shape=(3,), dtype=int32)\n"
          ]
        }
      ]
    },
    {
      "cell_type": "code",
      "source": [
        "#rank 0 tensor\n",
        "x1=tf.Variable(23)\n",
        "#rank 3 tensor\n",
        "x2= tf.Variable([[[0.,1.,2.],[3.,4.,5.]],[[6.,7.,8.],[9.,10.,11.]]])\n",
        "#python variable\n",
        "x0=123\n",
        "print(x1)\n",
        "print(x2)"
      ],
      "metadata": {
        "colab": {
          "base_uri": "https://localhost:8080/"
        },
        "id": "MWqUcwl6QFMF",
        "outputId": "409d3cdc-e483-4ef4-8cb9-d16d65784f41"
      },
      "execution_count": 9,
      "outputs": [
        {
          "output_type": "stream",
          "name": "stdout",
          "text": [
            "<tf.Variable 'Variable:0' shape=() dtype=int32, numpy=23>\n",
            "<tf.Variable 'Variable:0' shape=(2, 2, 3) dtype=float32, numpy=\n",
            "array([[[ 0.,  1.,  2.],\n",
            "        [ 3.,  4.,  5.]],\n",
            "\n",
            "       [[ 6.,  7.,  8.],\n",
            "        [ 9., 10., 11.]]], dtype=float32)>\n"
          ]
        }
      ]
    },
    {
      "cell_type": "code",
      "source": [
        "# assign constant"
      ],
      "metadata": {
        "id": "5VHR_IAATsFN"
      },
      "execution_count": 10,
      "outputs": []
    },
    {
      "cell_type": "code",
      "source": [
        "x1.assign(100)\n",
        "x1"
      ],
      "metadata": {
        "colab": {
          "base_uri": "https://localhost:8080/"
        },
        "id": "YIWuvfLLQE5e",
        "outputId": "5d999894-bc17-4daf-8f61-bf3785d04be5"
      },
      "execution_count": 11,
      "outputs": [
        {
          "output_type": "execute_result",
          "data": {
            "text/plain": [
              "<tf.Variable 'Variable:0' shape=() dtype=int32, numpy=100>"
            ]
          },
          "metadata": {},
          "execution_count": 11
        }
      ]
    },
    {
      "cell_type": "code",
      "source": [
        "x1= tf.Variable(100)\n",
        "print(x1)\n",
        "x1.assign(200)\n",
        "x1"
      ],
      "metadata": {
        "colab": {
          "base_uri": "https://localhost:8080/"
        },
        "id": "eobyQ7jDNr21",
        "outputId": "5b8e53fe-8a9e-431b-e468-31e48bebb409"
      },
      "execution_count": 13,
      "outputs": [
        {
          "output_type": "stream",
          "name": "stdout",
          "text": [
            "<tf.Variable 'Variable:0' shape=() dtype=int32, numpy=100>\n"
          ]
        },
        {
          "output_type": "execute_result",
          "data": {
            "text/plain": [
              "<tf.Variable 'Variable:0' shape=() dtype=int32, numpy=200>"
            ]
          },
          "metadata": {},
          "execution_count": 13
        }
      ]
    },
    {
      "cell_type": "code",
      "source": [
        "x2"
      ],
      "metadata": {
        "colab": {
          "base_uri": "https://localhost:8080/"
        },
        "id": "zQ18Pa5wUopg",
        "outputId": "9a7d6126-ac11-4b5e-b279-107825d5cdf2"
      },
      "execution_count": 14,
      "outputs": [
        {
          "output_type": "execute_result",
          "data": {
            "text/plain": [
              "<tf.Variable 'Variable:0' shape=(2, 2, 3) dtype=float32, numpy=\n",
              "array([[[ 0.,  1.,  2.],\n",
              "        [ 3.,  4.,  5.]],\n",
              "\n",
              "       [[ 6.,  7.,  8.],\n",
              "        [ 9., 10., 11.]]], dtype=float32)>"
            ]
          },
          "metadata": {},
          "execution_count": 14
        }
      ]
    },
    {
      "cell_type": "code",
      "source": [
        "x0"
      ],
      "metadata": {
        "colab": {
          "base_uri": "https://localhost:8080/"
        },
        "id": "yq1RZJRdU1z_",
        "outputId": "f684fc75-8fec-47c3-889e-928e9a7656e6"
      },
      "execution_count": 15,
      "outputs": [
        {
          "output_type": "execute_result",
          "data": {
            "text/plain": [
              "123"
            ]
          },
          "metadata": {},
          "execution_count": 15
        }
      ]
    },
    {
      "cell_type": "code",
      "source": [
        "#reshape"
      ],
      "metadata": {
        "id": "NVBY6ldTU5Pc"
      },
      "execution_count": 16,
      "outputs": []
    },
    {
      "cell_type": "code",
      "source": [
        "x112 = tf.reshape(x2,[1,12]) # 12 row 1 coulmn\n",
        "x112"
      ],
      "metadata": {
        "colab": {
          "base_uri": "https://localhost:8080/"
        },
        "id": "wm_eByAJU7yH",
        "outputId": "0d64414d-c5ef-4c01-f4d7-9087579c2c71"
      },
      "execution_count": 17,
      "outputs": [
        {
          "output_type": "execute_result",
          "data": {
            "text/plain": [
              "<tf.Tensor: shape=(1, 12), dtype=float32, numpy=\n",
              "array([[ 0.,  1.,  2.,  3.,  4.,  5.,  6.,  7.,  8.,  9., 10., 11.]],\n",
              "      dtype=float32)>"
            ]
          },
          "metadata": {},
          "execution_count": 17
        }
      ]
    },
    {
      "cell_type": "code",
      "source": [
        "xf64 = tf.Variable(202,dtype=tf.float64)\n",
        "xf64"
      ],
      "metadata": {
        "colab": {
          "base_uri": "https://localhost:8080/"
        },
        "id": "zf0_12qKVUMx",
        "outputId": "8aca81aa-8399-4e1d-b571-71d587e9f930"
      },
      "execution_count": 18,
      "outputs": [
        {
          "output_type": "execute_result",
          "data": {
            "text/plain": [
              "<tf.Variable 'Variable:0' shape=() dtype=float64, numpy=202.0>"
            ]
          },
          "metadata": {},
          "execution_count": 18
        }
      ]
    },
    {
      "cell_type": "code",
      "source": [
        "tf.float64"
      ],
      "metadata": {
        "colab": {
          "base_uri": "https://localhost:8080/"
        },
        "id": "bpaTazQuVgrw",
        "outputId": "95cfb51d-5d74-41f8-8c85-cde188fad432"
      },
      "execution_count": 19,
      "outputs": [
        {
          "output_type": "execute_result",
          "data": {
            "text/plain": [
              "tf.float64"
            ]
          },
          "metadata": {},
          "execution_count": 19
        }
      ]
    },
    {
      "cell_type": "code",
      "source": [
        "xf64.numpy()"
      ],
      "metadata": {
        "colab": {
          "base_uri": "https://localhost:8080/"
        },
        "id": "z5QyAaVyVn-i",
        "outputId": "bdfa0f8c-71af-4882-f8ba-f50360dc76c9"
      },
      "execution_count": 20,
      "outputs": [
        {
          "output_type": "execute_result",
          "data": {
            "text/plain": [
              "np.float64(202.0)"
            ]
          },
          "metadata": {},
          "execution_count": 20
        }
      ]
    },
    {
      "cell_type": "code",
      "source": [
        "tf.rank(xf64)"
      ],
      "metadata": {
        "colab": {
          "base_uri": "https://localhost:8080/"
        },
        "id": "vlH0bo1IWoaE",
        "outputId": "993d7613-6a39-46a8-fbc4-8b68cb9039f0"
      },
      "execution_count": 21,
      "outputs": [
        {
          "output_type": "execute_result",
          "data": {
            "text/plain": [
              "<tf.Tensor: shape=(), dtype=int32, numpy=0>"
            ]
          },
          "metadata": {},
          "execution_count": 21
        }
      ]
    },
    {
      "cell_type": "code",
      "source": [
        "tf.rank(x2)"
      ],
      "metadata": {
        "colab": {
          "base_uri": "https://localhost:8080/"
        },
        "id": "hcli-oypW6W9",
        "outputId": "a4dcf679-802d-4224-fa10-4663e2d71643"
      },
      "execution_count": 22,
      "outputs": [
        {
          "output_type": "execute_result",
          "data": {
            "text/plain": [
              "<tf.Tensor: shape=(), dtype=int32, numpy=3>"
            ]
          },
          "metadata": {},
          "execution_count": 22
        }
      ]
    },
    {
      "cell_type": "code",
      "source": [
        "t=tf.Variable([[[1,2,3],[4,5,6]],[[7,8,9],[10,11,12]]])\n",
        "tf.rank(t).numpy()"
      ],
      "metadata": {
        "colab": {
          "base_uri": "https://localhost:8080/"
        },
        "id": "GoveuDy_XSmU",
        "outputId": "1ea18f2a-36c3-47e0-99a9-624b06b175bd"
      },
      "execution_count": 23,
      "outputs": [
        {
          "output_type": "execute_result",
          "data": {
            "text/plain": [
              "np.int32(3)"
            ]
          },
          "metadata": {},
          "execution_count": 23
        }
      ]
    },
    {
      "cell_type": "code",
      "source": [
        "t.numpy()"
      ],
      "metadata": {
        "colab": {
          "base_uri": "https://localhost:8080/"
        },
        "id": "7bB1cgxgXo9m",
        "outputId": "83554c3d-3ac6-4b16-dd83-ed177b9d7f7e"
      },
      "execution_count": 24,
      "outputs": [
        {
          "output_type": "execute_result",
          "data": {
            "text/plain": [
              "array([[[ 1,  2,  3],\n",
              "        [ 4,  5,  6]],\n",
              "\n",
              "       [[ 7,  8,  9],\n",
              "        [10, 11, 12]]], dtype=int32)"
            ]
          },
          "metadata": {},
          "execution_count": 24
        }
      ]
    },
    {
      "cell_type": "code",
      "source": [
        "tensor3 =t[1,1,2] #slice 1, row 0,column2\n",
        "tensor3"
      ],
      "metadata": {
        "colab": {
          "base_uri": "https://localhost:8080/"
        },
        "id": "_9NCeMr7YM6U",
        "outputId": "79aea546-f321-494f-ba8b-da111a0a3c4d"
      },
      "execution_count": 25,
      "outputs": [
        {
          "output_type": "execute_result",
          "data": {
            "text/plain": [
              "<tf.Tensor: shape=(), dtype=int32, numpy=12>"
            ]
          },
          "metadata": {},
          "execution_count": 25
        }
      ]
    },
    {
      "cell_type": "code",
      "source": [
        "x= tf.constant([0,1,1,2,3,4,8,13,21,34])\n",
        "print(\"Before 4:\",x[:4].numpy())\n",
        "print(\"After 4:\",x[4:].numpy())\n",
        "print(\"From 2, before 7:\",x[2:7].numpy())\n",
        "print(\"Every other item:\",x[::2].numpy())\n",
        "print(\"Reversed:\",x[::-1].numpy())"
      ],
      "metadata": {
        "colab": {
          "base_uri": "https://localhost:8080/"
        },
        "id": "6WgaEn8narj1",
        "outputId": "d83a2060-28e2-4c2f-e250-d3ad21380307"
      },
      "execution_count": 26,
      "outputs": [
        {
          "output_type": "stream",
          "name": "stdout",
          "text": [
            "Before 4: [0 1 1 2]\n",
            "After 4: [ 3  4  8 13 21 34]\n",
            "From 2, before 7: [1 2 3 4 8]\n",
            "Every other item: [ 0  1  3  8 21]\n",
            "Reversed: [34 21 13  8  4  3  2  1  1  0]\n"
          ]
        }
      ]
    },
    {
      "cell_type": "code",
      "source": [
        "a= tf.Variable([[1,2],[3,4]])\n",
        "i=tf.cast(a,dtype=tf.float32)\n",
        "print(a)\n",
        "print(i)"
      ],
      "metadata": {
        "colab": {
          "base_uri": "https://localhost:8080/"
        },
        "id": "CCr7C6ptbHj-",
        "outputId": "1e5a847e-9bb3-4ac6-9dab-05daaa7e6079"
      },
      "execution_count": 27,
      "outputs": [
        {
          "output_type": "stream",
          "name": "stdout",
          "text": [
            "<tf.Variable 'Variable:0' shape=(2, 2) dtype=int32, numpy=\n",
            "array([[1, 2],\n",
            "       [3, 4]], dtype=int32)>\n",
            "tf.Tensor(\n",
            "[[1. 2.]\n",
            " [3. 4.]], shape=(2, 2), dtype=float32)\n"
          ]
        }
      ]
    },
    {
      "cell_type": "code",
      "source": [
        "a=tf.Variable([[1,2],[3,4]])\n",
        "b=tf.Variable([[5,6],[7,8]])\n",
        "c=a+b"
      ],
      "metadata": {
        "id": "L7PlYkxAciPd"
      },
      "execution_count": 28,
      "outputs": []
    },
    {
      "cell_type": "code",
      "source": [
        "b.numpy()"
      ],
      "metadata": {
        "colab": {
          "base_uri": "https://localhost:8080/"
        },
        "id": "nWWPobJJdHLy",
        "outputId": "2d1e72e6-fe88-4544-ce61-f4dc50eb5298"
      },
      "execution_count": 29,
      "outputs": [
        {
          "output_type": "execute_result",
          "data": {
            "text/plain": [
              "array([[5, 6],\n",
              "       [7, 8]], dtype=int32)"
            ]
          },
          "metadata": {},
          "execution_count": 29
        }
      ]
    },
    {
      "cell_type": "code",
      "source": [
        "print(a)\n",
        "print(b)\n",
        "print(\"\\n output of c\",c)"
      ],
      "metadata": {
        "id": "isiJplk0dMdn",
        "colab": {
          "base_uri": "https://localhost:8080/"
        },
        "outputId": "47f0c9ce-86e1-4219-b930-1060f602c461"
      },
      "execution_count": 31,
      "outputs": [
        {
          "output_type": "stream",
          "name": "stdout",
          "text": [
            "<tf.Variable 'Variable:0' shape=(2, 2) dtype=int32, numpy=\n",
            "array([[1, 2],\n",
            "       [3, 4]], dtype=int32)>\n",
            "<tf.Variable 'Variable:0' shape=(2, 2) dtype=int32, numpy=\n",
            "array([[5, 6],\n",
            "       [7, 8]], dtype=int32)>\n",
            "\n",
            " output of c tf.Tensor(\n",
            "[[ 6  8]\n",
            " [10 12]], shape=(2, 2), dtype=int32)\n"
          ]
        }
      ]
    },
    {
      "cell_type": "code",
      "source": [
        "d =tf.square(c)\n",
        "print(d)"
      ],
      "metadata": {
        "id": "Zo0EEJ19dN8K",
        "colab": {
          "base_uri": "https://localhost:8080/"
        },
        "outputId": "d2fcf733-2367-4cb3-a632-881a7ba993dd"
      },
      "execution_count": 32,
      "outputs": [
        {
          "output_type": "stream",
          "name": "stdout",
          "text": [
            "tf.Tensor(\n",
            "[[ 36  64]\n",
            " [100 144]], shape=(2, 2), dtype=int32)\n"
          ]
        }
      ]
    },
    {
      "cell_type": "code",
      "source": [
        "tf.add(a,b)\n",
        "tf.subtract(b,a)\n",
        "e= a*b\n",
        "print(6)\n",
        "tf.multiply(a,b) # No of columns in a == No of Rows in b tensor"
      ],
      "metadata": {
        "colab": {
          "base_uri": "https://localhost:8080/"
        },
        "id": "gHfL7dx4Lyq0",
        "outputId": "93fba986-f149-4f97-c0a0-0a12e2139f7e"
      },
      "execution_count": 34,
      "outputs": [
        {
          "output_type": "stream",
          "name": "stdout",
          "text": [
            "6\n"
          ]
        },
        {
          "output_type": "execute_result",
          "data": {
            "text/plain": [
              "<tf.Tensor: shape=(2, 2), dtype=int32, numpy=\n",
              "array([[ 5, 12],\n",
              "       [21, 32]], dtype=int32)>"
            ]
          },
          "metadata": {},
          "execution_count": 34
        }
      ]
    }
  ]
}